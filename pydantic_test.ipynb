{
 "cells": [
  {
   "cell_type": "code",
   "execution_count": 4,
   "metadata": {},
   "outputs": [],
   "source": [
    "# ! pip install datamodel-code-generator\n",
    "! datamodel-codegen --input jsonschemaLeo.json --input-file-type jsonschema --output model_new.py"
   ]
  },
  {
   "cell_type": "code",
   "execution_count": 5,
   "metadata": {},
   "outputs": [
    {
     "ename": "PydanticUserError",
     "evalue": "`unique_items` is removed, use `Set` instead(this feature is discussed in https://github.com/pydantic/pydantic-core/issues/296)\n\nFor further information visit https://errors.pydantic.dev/2.4/u/removed-kwargs",
     "output_type": "error",
     "traceback": [
      "\u001b[0;31m---------------------------------------------------------------------------\u001b[0m",
      "\u001b[0;31mPydanticUserError\u001b[0m                         Traceback (most recent call last)",
      "\u001b[1;32m/home/leo_wsl/ISIS/BarveWork/datamodel_generator/pydantic_test.ipynb Cell 2\u001b[0m line \u001b[0;36m1\n\u001b[0;32m----> <a href='vscode-notebook-cell://wsl%2Bubuntu/home/leo_wsl/ISIS/BarveWork/datamodel_generator/pydantic_test.ipynb#W1sdnNjb2RlLXJlbW90ZQ%3D%3D?line=0'>1</a>\u001b[0m \u001b[39mfrom\u001b[39;00m \u001b[39mmodel_new\u001b[39;00m \u001b[39mimport\u001b[39;00m \u001b[39m*\u001b[39m\n",
      "File \u001b[0;32m~/ISIS/BarveWork/datamodel_generator/model_new.py:102\u001b[0m\n\u001b[1;32m     97\u001b[0m         extra \u001b[39m=\u001b[39m Extra\u001b[39m.\u001b[39mforbid\n\u001b[1;32m     99\u001b[0m     Social: Optional[Dict[\u001b[39mstr\u001b[39m, Any]] \u001b[39m=\u001b[39m Field(\u001b[39mNone\u001b[39;00m, title\u001b[39m=\u001b[39m\u001b[39m'\u001b[39m\u001b[39mSocial\u001b[39m\u001b[39m'\u001b[39m)\n\u001b[0;32m--> 102\u001b[0m \u001b[39mclass\u001b[39;00m \u001b[39mEMA\u001b[39;00m(BaseModel):\n\u001b[1;32m    103\u001b[0m     \u001b[39mclass\u001b[39;00m \u001b[39mConfig\u001b[39;00m:\n\u001b[1;32m    104\u001b[0m         extra \u001b[39m=\u001b[39m Extra\u001b[39m.\u001b[39mforbid\n",
      "File \u001b[0;32m~/ISIS/BarveWork/datamodel_generator/model_new.py:129\u001b[0m, in \u001b[0;36mEMA\u001b[0;34m()\u001b[0m\n\u001b[1;32m    109\u001b[0m Question_Window: Optional[\n\u001b[1;32m    110\u001b[0m     Union[\n\u001b[1;32m    111\u001b[0m         QuestionWindowItem,\n\u001b[0;32m   (...)\u001b[0m\n\u001b[1;32m    115\u001b[0m     ]\n\u001b[1;32m    116\u001b[0m ] \u001b[39m=\u001b[39m Field(\u001b[39mNone\u001b[39;00m, alias\u001b[39m=\u001b[39m\u001b[39m'\u001b[39m\u001b[39mQuestion Window\u001b[39m\u001b[39m'\u001b[39m, title\u001b[39m=\u001b[39m\u001b[39m'\u001b[39m\u001b[39mQuestion Window\u001b[39m\u001b[39m'\u001b[39m)\n\u001b[1;32m    117\u001b[0m Device: Optional[Union[DeviceItem, DeviceItem1]] \u001b[39m=\u001b[39m Field(\u001b[39mNone\u001b[39;00m, title\u001b[39m=\u001b[39m\u001b[39m'\u001b[39m\u001b[39mDevice\u001b[39m\u001b[39m'\u001b[39m)\n\u001b[1;32m    118\u001b[0m Category: Optional[\n\u001b[1;32m    119\u001b[0m     List[\n\u001b[1;32m    120\u001b[0m         Union[\n\u001b[1;32m    121\u001b[0m             CategoryItem,\n\u001b[1;32m    122\u001b[0m             CategoryItem1,\n\u001b[1;32m    123\u001b[0m             CategoryItem2,\n\u001b[1;32m    124\u001b[0m             CategoryItem3,\n\u001b[1;32m    125\u001b[0m             CategoryItem4,\n\u001b[1;32m    126\u001b[0m             CategoryItem5,\n\u001b[1;32m    127\u001b[0m         ]\n\u001b[1;32m    128\u001b[0m     ]\n\u001b[0;32m--> 129\u001b[0m ] \u001b[39m=\u001b[39m Field(\u001b[39mNone\u001b[39;49;00m, title\u001b[39m=\u001b[39;49m\u001b[39m'\u001b[39;49m\u001b[39mCategory\u001b[39;49m\u001b[39m'\u001b[39;49m, unique_items\u001b[39m=\u001b[39;49m\u001b[39mTrue\u001b[39;49;00m)\n",
      "File \u001b[0;32m~/.local/lib/python3.10/site-packages/pydantic/fields.py:779\u001b[0m, in \u001b[0;36mField\u001b[0;34m(default, default_factory, alias, alias_priority, validation_alias, serialization_alias, title, description, examples, exclude, discriminator, json_schema_extra, frozen, validate_default, repr, init_var, kw_only, pattern, strict, gt, ge, lt, le, multiple_of, allow_inf_nan, max_digits, decimal_places, min_length, max_length, union_mode, **extra)\u001b[0m\n\u001b[1;32m    777\u001b[0m unique_items \u001b[39m=\u001b[39m extra\u001b[39m.\u001b[39mpop(\u001b[39m'\u001b[39m\u001b[39munique_items\u001b[39m\u001b[39m'\u001b[39m, \u001b[39mNone\u001b[39;00m)  \u001b[39m# type: ignore\u001b[39;00m\n\u001b[1;32m    778\u001b[0m \u001b[39mif\u001b[39;00m unique_items \u001b[39mis\u001b[39;00m \u001b[39mnot\u001b[39;00m \u001b[39mNone\u001b[39;00m:\n\u001b[0;32m--> 779\u001b[0m     \u001b[39mraise\u001b[39;00m PydanticUserError(\n\u001b[1;32m    780\u001b[0m         (\n\u001b[1;32m    781\u001b[0m             \u001b[39m'\u001b[39m\u001b[39m`unique_items` is removed, use `Set` instead\u001b[39m\u001b[39m'\u001b[39m\n\u001b[1;32m    782\u001b[0m             \u001b[39m'\u001b[39m\u001b[39m(this feature is discussed in https://github.com/pydantic/pydantic-core/issues/296)\u001b[39m\u001b[39m'\u001b[39m\n\u001b[1;32m    783\u001b[0m         ),\n\u001b[1;32m    784\u001b[0m         code\u001b[39m=\u001b[39m\u001b[39m'\u001b[39m\u001b[39mremoved-kwargs\u001b[39m\u001b[39m'\u001b[39m,\n\u001b[1;32m    785\u001b[0m     )\n\u001b[1;32m    787\u001b[0m allow_mutation \u001b[39m=\u001b[39m extra\u001b[39m.\u001b[39mpop(\u001b[39m'\u001b[39m\u001b[39mallow_mutation\u001b[39m\u001b[39m'\u001b[39m, \u001b[39mNone\u001b[39;00m)  \u001b[39m# type: ignore\u001b[39;00m\n\u001b[1;32m    788\u001b[0m \u001b[39mif\u001b[39;00m allow_mutation \u001b[39mis\u001b[39;00m \u001b[39mnot\u001b[39;00m \u001b[39mNone\u001b[39;00m:\n",
      "\u001b[0;31mPydanticUserError\u001b[0m: `unique_items` is removed, use `Set` instead(this feature is discussed in https://github.com/pydantic/pydantic-core/issues/296)\n\nFor further information visit https://errors.pydantic.dev/2.4/u/removed-kwargs"
     ]
    }
   ],
   "source": [
    "from model_new import *"
   ]
  }
 ],
 "metadata": {
  "kernelspec": {
   "display_name": "Python 3",
   "language": "python",
   "name": "python3"
  },
  "language_info": {
   "codemirror_mode": {
    "name": "ipython",
    "version": 3
   },
   "file_extension": ".py",
   "mimetype": "text/x-python",
   "name": "python",
   "nbconvert_exporter": "python",
   "pygments_lexer": "ipython3",
   "version": "3.10.12"
  },
  "orig_nbformat": 4
 },
 "nbformat": 4,
 "nbformat_minor": 2
}
