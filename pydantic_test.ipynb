{
 "cells": [
  {
   "cell_type": "code",
   "execution_count": 29,
   "metadata": {},
   "outputs": [],
   "source": [
    "# ! pip install datamodel-code-generator\n",
    "! datamodel-codegen --use-unique-items-as-set --use-annotated --input jsonschemaLeo.json --input-file-type jsonschema --output model_new.py"
   ]
  },
  {
   "cell_type": "code",
   "execution_count": 26,
   "metadata": {},
   "outputs": [
    {
     "name": "stdout",
     "output_type": "stream",
     "text": [
      "usage: \n",
      "  datamodel-codegen [options]\n",
      "\n",
      "Generate Python data models from schema definitions or structured data\n",
      "\n",
      "\u001b[36;1mOptions\u001b[0m:\n",
      "  --http-headers HTTP_HEADER [HTTP_HEADER ...]\n",
      "                        Set headers in HTTP requests to the remote host.\n",
      "                        (example: \"Authorization: Basic dXNlcjpwYXNz\")\n",
      "  --http-ignore-tls     Disable verification of the remote host's TLS\n",
      "                        certificate\n",
      "  --input INPUT         Input file/directory (default: stdin)\n",
      "  --input-file-type {auto,openapi,jsonschema,json,yaml,dict,csv}\n",
      "                        Input file type (default: auto)\n",
      "  --output OUTPUT       Output file (default: stdout)\n",
      "  --output-model-type {pydantic.BaseModel,pydantic_v2.BaseModel,dataclasses.dataclass,typing.TypedDict,msgspec.Struct}\n",
      "                        Output model type (default: pydantic.BaseModel)\n",
      "  --url URL             Input file URL. `--input` is ignored when `--url` is\n",
      "                        used\n",
      "\n",
      "\u001b[36;1mTyping customization\u001b[0m:\n",
      "  --base-class BASE_CLASS\n",
      "                        Base Class (default: pydantic.BaseModel)\n",
      "  --enum-field-as-literal {all,one}\n",
      "                        Parse enum field as literal. all: all enum field type\n",
      "                        are Literal. one: field type is Literal when an enum\n",
      "                        has only one possible value\n",
      "  --field-constraints   Use field constraints and not con* annotations\n",
      "  --set-default-enum-member\n",
      "                        Set enum members as default values for enum field\n",
      "  --strict-types {str,bytes,int,float,bool} [{str,bytes,int,float,bool} ...]\n",
      "                        Use strict types\n",
      "  --use-annotated       Use typing.Annotated for Field(). Also, `--field-\n",
      "                        constraints` option will be enabled.\n",
      "  --use-generic-container-types\n",
      "                        Use generic container types for type hinting\n",
      "                        (typing.Sequence, typing.Mapping). If `--use-standard-\n",
      "                        collections` option is set, then import from\n",
      "                        collections.abc instead of typing\n",
      "  --use-non-positive-negative-number-constrained-types\n",
      "                        Use the Non{Positive,Negative}{FloatInt} types instead\n",
      "                        of the corresponding con* constrained types.\n",
      "  --use-one-literal-as-default\n",
      "                        Use one literal as default value for one literal field\n",
      "  --use-standard-collections\n",
      "                        Use standard collections for type hinting (list, dict)\n",
      "  --use-subclass-enum   Define Enum class as subclass with field type when\n",
      "                        enum has type (int, float, bytes, str)\n",
      "  --use-union-operator  Use | operator for Union type (PEP 604).\n",
      "  --use-unique-items-as-set\n",
      "                        define field type as `set` when the field attribute\n",
      "                        has `uniqueItems`\n",
      "\n",
      "\u001b[36;1mField customization\u001b[0m:\n",
      "  --capitalise-enum-members, --capitalize-enum-members\n",
      "                        Capitalize field names on enum\n",
      "  --empty-enum-field-name EMPTY_ENUM_FIELD_NAME\n",
      "                        Set field name when enum value is empty (default: `_`)\n",
      "  --field-extra-keys FIELD_EXTRA_KEYS [FIELD_EXTRA_KEYS ...]\n",
      "                        Add extra keys to field parameters\n",
      "  --field-extra-keys-without-x-prefix FIELD_EXTRA_KEYS_WITHOUT_X_PREFIX [FIELD_EXTRA_KEYS_WITHOUT_X_PREFIX ...]\n",
      "                        Add extra keys with `x-` prefix to field parameters.\n",
      "                        The extra keys are stripped of the `x-` prefix.\n",
      "  --field-include-all-keys\n",
      "                        Add all keys to field parameters\n",
      "  --force-optional      Force optional for required fields\n",
      "  --original-field-name-delimiter ORIGINAL_FIELD_NAME_DELIMITER\n",
      "                        Set delimiter to convert to snake case. This option\n",
      "                        only can be used with --snake-case-field (default: `_`\n",
      "                        )\n",
      "  --remove-special-field-name-prefix\n",
      "                        Remove field name prefix when first character can't be\n",
      "                        used as Python field name\n",
      "  --snake-case-field    Change camel-case field name to snake-case\n",
      "  --special-field-name-prefix SPECIAL_FIELD_NAME_PREFIX\n",
      "                        Set field name prefix when first character can't be\n",
      "                        used as Python field name (default: `field`)\n",
      "  --strip-default-none  Strip default None on fields\n",
      "  --use-default         Use default value even if a field is required\n",
      "  --use-default-kwarg   Use `default=` instead of a positional argument for\n",
      "                        Fields that have default values.\n",
      "  --use-field-description\n",
      "                        Use schema description to populate field docstring\n",
      "\n",
      "\u001b[36;1mModel customization\u001b[0m:\n",
      "  --allow-extra-fields  Allow to pass extra fields, if this flag is not\n",
      "                        passed, extra fields are forbidden.\n",
      "  --allow-population-by-field-name\n",
      "                        Allow population by field name\n",
      "  --class-name CLASS_NAME\n",
      "                        Set class name of root model\n",
      "  --collapse-root-models\n",
      "                        Models generated with a root-type field will be\n",
      "                        mergedinto the models using that root-type model\n",
      "  --disable-appending-item-suffix\n",
      "                        Disable appending `Item` suffix to model name in an\n",
      "                        array\n",
      "  --disable-timestamp   Disable timestamp on file headers\n",
      "  --enable-faux-immutability\n",
      "                        Enable faux immutability\n",
      "  --enable-version-header\n",
      "                        Enable package version on file headers\n",
      "  --keep-model-order    Keep generated models' order\n",
      "  --reuse-model         Re-use models on the field when a module has the model\n",
      "                        with the same content\n",
      "  --target-python-version {3.6,3.7,3.8,3.9,3.10,3.11}\n",
      "                        target python version (default: 3.7)\n",
      "  --use-schema-description\n",
      "                        Use schema description to populate class docstring\n",
      "  --use-title-as-name   use titles as class names of models\n",
      "\n",
      "\u001b[36;1mTemplate customization\u001b[0m:\n",
      "  --aliases ALIASES     Alias mapping file\n",
      "  --custom-file-header CUSTOM_FILE_HEADER\n",
      "                        Custom file header\n",
      "  --custom-file-header-path CUSTOM_FILE_HEADER_PATH\n",
      "                        Custom file header file path\n",
      "  --custom-template-dir CUSTOM_TEMPLATE_DIR\n",
      "                        Custom template directory\n",
      "  --encoding ENCODING   The encoding of input and output (default: UTF-8)\n",
      "  --extra-template-data EXTRA_TEMPLATE_DATA\n",
      "                        Extra template data\n",
      "  --use-double-quotes   Model generated with double quotes. Single quotes or\n",
      "                        your black config skip_string_normalization value will\n",
      "                        be used without this option.\n",
      "  --wrap-string-literal\n",
      "                        Wrap string literal by using black `experimental-\n",
      "                        string-processing` option (require black 20.8b0 or\n",
      "                        later)\n",
      "\n",
      "\u001b[36;1mOpenAPI-only options\u001b[0m:\n",
      "  --openapi-scopes {schemas,paths,tags,parameters} [{schemas,paths,tags,parameters} ...]\n",
      "                        Scopes of OpenAPI model generation (default: schemas)\n",
      "  --strict-nullable     Treat default field as a non-nullable field (Only\n",
      "                        OpenAPI)\n",
      "  --use-operation-id-as-name\n",
      "                        use operation id of OpenAPI as class names of models\n",
      "  --validation          Enable validation (Only OpenAPI)\n",
      "\n",
      "\u001b[36;1mGeneral options\u001b[0m:\n",
      "  --debug               show debug message\n",
      "  --disable-warnings    disable warnings\n",
      "  --no-color            disable colorized output\n",
      "  --version             show version\n",
      "  -h, --help            show this help message and exit\n"
     ]
    }
   ],
   "source": [
    "! datamodel-codegen --help"
   ]
  },
  {
   "cell_type": "code",
   "execution_count": 5,
   "metadata": {},
   "outputs": [
    {
     "name": "stdout",
     "output_type": "stream",
     "text": [
      "Requirement already satisfied: datamodel-code-generator in /Users/yogeshbarve/.pyenv/versions/3.10.4/lib/python3.10/site-packages (0.22.0)\n",
      "Requirement already satisfied: PySnooper<2.0.0,>=0.4.1 in /Users/yogeshbarve/.pyenv/versions/3.10.4/lib/python3.10/site-packages (from datamodel-code-generator) (1.2.0)\n",
      "Requirement already satisfied: argcomplete<4.0,>=1.10 in /Users/yogeshbarve/.pyenv/versions/3.10.4/lib/python3.10/site-packages (from datamodel-code-generator) (3.1.2)\n",
      "Requirement already satisfied: black>=19.10b0 in /Users/yogeshbarve/.pyenv/versions/3.10.4/lib/python3.10/site-packages (from datamodel-code-generator) (23.9.1)\n",
      "Requirement already satisfied: genson<2.0,>=1.2.1 in /Users/yogeshbarve/.pyenv/versions/3.10.4/lib/python3.10/site-packages (from datamodel-code-generator) (1.2.2)\n",
      "Requirement already satisfied: inflect<6.0,>=4.1.0 in /Users/yogeshbarve/.pyenv/versions/3.10.4/lib/python3.10/site-packages (from datamodel-code-generator) (5.6.2)\n",
      "Requirement already satisfied: isort<6.0,>=4.3.21 in /Users/yogeshbarve/.pyenv/versions/3.10.4/lib/python3.10/site-packages (from datamodel-code-generator) (5.12.0)\n",
      "Requirement already satisfied: jinja2<4.0,>=2.10.1 in /Users/yogeshbarve/.pyenv/versions/3.10.4/lib/python3.10/site-packages (from datamodel-code-generator) (3.1.2)\n",
      "Requirement already satisfied: openapi-spec-validator<=0.5.7,>=0.2.8 in /Users/yogeshbarve/.pyenv/versions/3.10.4/lib/python3.10/site-packages (from datamodel-code-generator) (0.5.7)\n",
      "Requirement already satisfied: packaging in /Users/yogeshbarve/.pyenv/versions/3.10.4/lib/python3.10/site-packages (from datamodel-code-generator) (23.2)\n",
      "Requirement already satisfied: prance>=0.18.2 in /Users/yogeshbarve/.pyenv/versions/3.10.4/lib/python3.10/site-packages (from datamodel-code-generator) (23.6.21.0)\n",
      "Requirement already satisfied: pydantic[email]<3.0,>=1.9.0 in /Users/yogeshbarve/.pyenv/versions/3.10.4/lib/python3.10/site-packages (from datamodel-code-generator) (2.4.2)\n",
      "Requirement already satisfied: toml<1.0.0,>=0.10.0 in /Users/yogeshbarve/.pyenv/versions/3.10.4/lib/python3.10/site-packages (from datamodel-code-generator) (0.10.2)\n",
      "Requirement already satisfied: click>=8.0.0 in /Users/yogeshbarve/.pyenv/versions/3.10.4/lib/python3.10/site-packages (from black>=19.10b0->datamodel-code-generator) (8.1.7)\n",
      "Requirement already satisfied: mypy-extensions>=0.4.3 in /Users/yogeshbarve/.pyenv/versions/3.10.4/lib/python3.10/site-packages (from black>=19.10b0->datamodel-code-generator) (1.0.0)\n",
      "Requirement already satisfied: pathspec>=0.9.0 in /Users/yogeshbarve/.pyenv/versions/3.10.4/lib/python3.10/site-packages (from black>=19.10b0->datamodel-code-generator) (0.11.2)\n",
      "Requirement already satisfied: platformdirs>=2 in /Users/yogeshbarve/.pyenv/versions/3.10.4/lib/python3.10/site-packages (from black>=19.10b0->datamodel-code-generator) (3.11.0)\n",
      "Requirement already satisfied: tomli>=1.1.0 in /Users/yogeshbarve/.pyenv/versions/3.10.4/lib/python3.10/site-packages (from black>=19.10b0->datamodel-code-generator) (2.0.1)\n",
      "Requirement already satisfied: typing-extensions>=4.0.1 in /Users/yogeshbarve/.pyenv/versions/3.10.4/lib/python3.10/site-packages (from black>=19.10b0->datamodel-code-generator) (4.8.0)\n",
      "Requirement already satisfied: MarkupSafe>=2.0 in /Users/yogeshbarve/.pyenv/versions/3.10.4/lib/python3.10/site-packages (from jinja2<4.0,>=2.10.1->datamodel-code-generator) (2.1.3)\n",
      "Requirement already satisfied: jsonschema<4.18.0,>=4.0.0 in /Users/yogeshbarve/.pyenv/versions/3.10.4/lib/python3.10/site-packages (from openapi-spec-validator<=0.5.7,>=0.2.8->datamodel-code-generator) (4.17.3)\n",
      "Requirement already satisfied: jsonschema-spec<0.2.0,>=0.1.1 in /Users/yogeshbarve/.pyenv/versions/3.10.4/lib/python3.10/site-packages (from openapi-spec-validator<=0.5.7,>=0.2.8->datamodel-code-generator) (0.1.6)\n",
      "Requirement already satisfied: lazy-object-proxy<2.0.0,>=1.7.1 in /Users/yogeshbarve/.pyenv/versions/3.10.4/lib/python3.10/site-packages (from openapi-spec-validator<=0.5.7,>=0.2.8->datamodel-code-generator) (1.9.0)\n",
      "Requirement already satisfied: openapi-schema-validator<0.5.0,>=0.4.2 in /Users/yogeshbarve/.pyenv/versions/3.10.4/lib/python3.10/site-packages (from openapi-spec-validator<=0.5.7,>=0.2.8->datamodel-code-generator) (0.4.4)\n",
      "Requirement already satisfied: chardet>=3.0 in /Users/yogeshbarve/.pyenv/versions/3.10.4/lib/python3.10/site-packages (from prance>=0.18.2->datamodel-code-generator) (5.2.0)\n",
      "Requirement already satisfied: ruamel.yaml>=0.17.10 in /Users/yogeshbarve/.pyenv/versions/3.10.4/lib/python3.10/site-packages (from prance>=0.18.2->datamodel-code-generator) (0.17.33)\n",
      "Requirement already satisfied: requests>=2.25 in /Users/yogeshbarve/.pyenv/versions/3.10.4/lib/python3.10/site-packages (from prance>=0.18.2->datamodel-code-generator) (2.31.0)\n",
      "Requirement already satisfied: six~=1.15 in /Users/yogeshbarve/.pyenv/versions/3.10.4/lib/python3.10/site-packages (from prance>=0.18.2->datamodel-code-generator) (1.16.0)\n",
      "Requirement already satisfied: annotated-types>=0.4.0 in /Users/yogeshbarve/.pyenv/versions/3.10.4/lib/python3.10/site-packages (from pydantic[email]<3.0,>=1.9.0->datamodel-code-generator) (0.5.0)\n",
      "Requirement already satisfied: pydantic-core==2.10.1 in /Users/yogeshbarve/.pyenv/versions/3.10.4/lib/python3.10/site-packages (from pydantic[email]<3.0,>=1.9.0->datamodel-code-generator) (2.10.1)\n",
      "Requirement already satisfied: email-validator>=2.0.0 in /Users/yogeshbarve/.pyenv/versions/3.10.4/lib/python3.10/site-packages (from pydantic[email]<3.0,>=1.9.0->datamodel-code-generator) (2.0.0.post2)\n",
      "Requirement already satisfied: dnspython>=2.0.0 in /Users/yogeshbarve/.pyenv/versions/3.10.4/lib/python3.10/site-packages (from email-validator>=2.0.0->pydantic[email]<3.0,>=1.9.0->datamodel-code-generator) (2.4.2)\n",
      "Requirement already satisfied: idna>=2.0.0 in /Users/yogeshbarve/.pyenv/versions/3.10.4/lib/python3.10/site-packages (from email-validator>=2.0.0->pydantic[email]<3.0,>=1.9.0->datamodel-code-generator) (3.4)\n",
      "Requirement already satisfied: attrs>=17.4.0 in /Users/yogeshbarve/.pyenv/versions/3.10.4/lib/python3.10/site-packages (from jsonschema<4.18.0,>=4.0.0->openapi-spec-validator<=0.5.7,>=0.2.8->datamodel-code-generator) (23.1.0)\n",
      "Requirement already satisfied: pyrsistent!=0.17.0,!=0.17.1,!=0.17.2,>=0.14.0 in /Users/yogeshbarve/.pyenv/versions/3.10.4/lib/python3.10/site-packages (from jsonschema<4.18.0,>=4.0.0->openapi-spec-validator<=0.5.7,>=0.2.8->datamodel-code-generator) (0.19.3)\n",
      "Requirement already satisfied: PyYAML>=5.1 in /Users/yogeshbarve/.pyenv/versions/3.10.4/lib/python3.10/site-packages (from jsonschema-spec<0.2.0,>=0.1.1->openapi-spec-validator<=0.5.7,>=0.2.8->datamodel-code-generator) (6.0.1)\n",
      "Requirement already satisfied: pathable<0.5.0,>=0.4.1 in /Users/yogeshbarve/.pyenv/versions/3.10.4/lib/python3.10/site-packages (from jsonschema-spec<0.2.0,>=0.1.1->openapi-spec-validator<=0.5.7,>=0.2.8->datamodel-code-generator) (0.4.3)\n",
      "Requirement already satisfied: rfc3339-validator in /Users/yogeshbarve/.pyenv/versions/3.10.4/lib/python3.10/site-packages (from openapi-schema-validator<0.5.0,>=0.4.2->openapi-spec-validator<=0.5.7,>=0.2.8->datamodel-code-generator) (0.1.4)\n",
      "Requirement already satisfied: charset-normalizer<4,>=2 in /Users/yogeshbarve/.pyenv/versions/3.10.4/lib/python3.10/site-packages (from requests>=2.25->prance>=0.18.2->datamodel-code-generator) (3.3.0)\n",
      "Requirement already satisfied: urllib3<3,>=1.21.1 in /Users/yogeshbarve/.pyenv/versions/3.10.4/lib/python3.10/site-packages (from requests>=2.25->prance>=0.18.2->datamodel-code-generator) (2.0.6)\n",
      "Requirement already satisfied: certifi>=2017.4.17 in /Users/yogeshbarve/.pyenv/versions/3.10.4/lib/python3.10/site-packages (from requests>=2.25->prance>=0.18.2->datamodel-code-generator) (2023.7.22)\n",
      "Requirement already satisfied: ruamel.yaml.clib>=0.2.7 in /Users/yogeshbarve/.pyenv/versions/3.10.4/lib/python3.10/site-packages (from ruamel.yaml>=0.17.10->prance>=0.18.2->datamodel-code-generator) (0.2.7)\n"
     ]
    }
   ],
   "source": [
    "! pip install datamodel-code-generator"
   ]
  },
  {
   "cell_type": "code",
   "execution_count": 3,
   "metadata": {},
   "outputs": [
    {
     "name": "stdout",
     "output_type": "stream",
     "text": [
      "Requirement already satisfied: pip in /Users/yogeshbarve/.pyenv/versions/3.6.4/lib/python3.6/site-packages (21.3.1)\r\n"
     ]
    }
   ],
   "source": [
    "!pip install --upgrade pip"
   ]
  },
  {
   "cell_type": "code",
   "execution_count": 31,
   "metadata": {},
   "outputs": [],
   "source": [
    "from typing import Optional, Annotated\n",
    "from model_new import *\n"
   ]
  },
  {
   "cell_type": "code",
   "execution_count": 12,
   "metadata": {},
   "outputs": [
    {
     "name": "stdout",
     "output_type": "stream",
     "text": [
      "  --use-unique-items-as-set\n",
      "                        has `uniqueItems`\n"
     ]
    }
   ],
   "source": [
    "! datamodel-codegen --help | grep unique"
   ]
  },
  {
   "cell_type": "code",
   "execution_count": 9,
   "metadata": {},
   "outputs": [
    {
     "name": "stdout",
     "output_type": "stream",
     "text": [
      "Requirement already satisfied: pip in /Users/yogeshbarve/.pyenv/versions/3.6.4/lib/python3.6/site-packages (21.3.1)\r\n"
     ]
    }
   ],
   "source": [
    "!pip3 install --upgrade pip"
   ]
  }
 ],
 "metadata": {
  "kernelspec": {
   "display_name": "Python 3 (ipykernel)",
   "language": "python",
   "name": "python3"
  },
  "language_info": {
   "codemirror_mode": {
    "name": "ipython",
    "version": 3
   },
   "file_extension": ".py",
   "mimetype": "text/x-python",
   "name": "python",
   "nbconvert_exporter": "python",
   "pygments_lexer": "ipython3",
   "version": "3.10.4"
  }
 },
 "nbformat": 4,
 "nbformat_minor": 4
}
